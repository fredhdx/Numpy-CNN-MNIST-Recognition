{
 "cells": [
  {
   "cell_type": "code",
   "execution_count": 1,
   "id": "e23f6af3",
   "metadata": {},
   "outputs": [],
   "source": [
    "import numpy as np"
   ]
  },
  {
   "cell_type": "code",
   "execution_count": 64,
   "id": "afc38938",
   "metadata": {},
   "outputs": [],
   "source": [
    "input_data = {}\n",
    "input_data['data'] = np.zeros((25,2)) # h, w\n",
    "input_data['data'] = input_data['data'].T # w, h \n",
    "input_data['data'].flat[5::3] = 1.0\n",
    "input_data['data'].flat[6::3] = 0.5\n",
    "input_data['data'] = input_data['data'].T\n",
    "input_data['height'] = 25 # # of rows\n",
    "input_data['width'] = 1 # # of cols\n",
    "input_data['channel'] = 1\n",
    "input_data['batch_size'] = 2\n",
    "\n",
    "# data::[ height × width × channel, batch size ]"
   ]
  },
  {
   "cell_type": "code",
   "execution_count": 65,
   "id": "913af05b",
   "metadata": {},
   "outputs": [],
   "source": [
    "layer = {}\n",
    "layer['type'] = 'IP'\n",
    "layer['num'] = 25"
   ]
  },
  {
   "cell_type": "code",
   "execution_count": 66,
   "id": "854343dc",
   "metadata": {},
   "outputs": [],
   "source": [
    "params = {}\n",
    "params['w'] = np.eye(25)\n",
    "params['w'].flat[:25*10] = 0\n",
    "params['w'][1, 4] = 0.5\n",
    "params['w'][2, 3] = 0.5\n",
    "params['b'] = np.zeros((1,25))\n",
    "params['b'][0,1] = 0.5\n",
    "params['b'][0,3] = 0.5"
   ]
  },
  {
   "cell_type": "code",
   "execution_count": 72,
   "id": "51a08ce7",
   "metadata": {},
   "outputs": [],
   "source": [
    "def inner_product_forward(input, layer, param):\n",
    "    \"\"\"\n",
    "    Forward pass of inner product layer.\n",
    "\n",
    "    Parameters:\n",
    "    - input (dict): Contains the input data.\n",
    "    - layer (dict): Contains the configuration for the inner product layer.\n",
    "    - param (dict): Contains the weights and biases for the inner product layer.\n",
    "    \"\"\"\n",
    "\n",
    "    d, k = input[\"data\"].shape # hxwxc, b\n",
    "    n = param[\"w\"].shape[1]\n",
    "\n",
    "    ###### Fill in the code here ######\n",
    "    \n",
    "    data = (np.dot(param[\"w\"], input[\"data\"]).T + param[\"b\"]).T\n",
    "\n",
    "    # Initialize output data structure\n",
    "    output = {\n",
    "        \"height\": n,\n",
    "        \"width\": 1,\n",
    "        \"channel\": 1,\n",
    "        \"batch_size\": k,\n",
    "        \"data\": data # replace 'data' value with your implementation\n",
    "    }\n",
    "\n",
    "    return output"
   ]
  },
  {
   "cell_type": "code",
   "execution_count": 73,
   "id": "ac2237a4",
   "metadata": {},
   "outputs": [],
   "source": [
    "output = inner_product_forward(input_data, layer, params)"
   ]
  },
  {
   "cell_type": "code",
   "execution_count": 75,
   "id": "6cd1f4a7",
   "metadata": {},
   "outputs": [
    {
     "ename": "SyntaxError",
     "evalue": "invalid syntax (1781027502.py, line 1)",
     "output_type": "error",
     "traceback": [
      "\u001b[0;36m  Cell \u001b[0;32mIn[75], line 1\u001b[0;36m\u001b[0m\n\u001b[0;31m    ef pooling_layer_forward(input, layer):\u001b[0m\n\u001b[0m       ^\u001b[0m\n\u001b[0;31mSyntaxError\u001b[0m\u001b[0;31m:\u001b[0m invalid syntax\n"
     ]
    }
   ],
   "source": [
    "def pooling_layer_forward(input, layer):\n",
    "    \"\"\"\n",
    "    Forward pass for the pooling layer.\n",
    "\n",
    "    Parameters:\n",
    "    - input (dict): Contains the input data.\n",
    "    - layer (dict): Layer configuration containing parameters such as kernel size, padding, stride, etc.\n",
    "    \"\"\"\n",
    "    \n",
    "    # input\n",
    "    h_in = input['height']\n",
    "    w_in = input['width']\n",
    "    c = input['channel']\n",
    "    batch_size = input['batch_size']\n",
    "\n",
    "    # pool parameters\n",
    "    k = layer['k']\n",
    "    pad = layer['pad']\n",
    "    stride = layer['stride']\n",
    "\n",
    "    h_out = int((h_in + 2 * pad - k) / stride + 1)\n",
    "    w_out = int((w_in + 2 * pad - k) / stride + 1)\n",
    "    \n",
    "    output = {}\n",
    "    output['height'] = h_out\n",
    "    output['width'] = w_out\n",
    "    output['channel'] = c\n",
    "    output['batch_size'] = batch_size\n",
    "    output['data'] = np.zeros((h_out, w_out, c, batch_size)) # replace with your implementation\n",
    "\n",
    "    ###### Fill in the code here ######\n",
    "    data = input['data']\n",
    "    data = data.reshape((h_in, w_in, c, batch_size), order='F')\n",
    "\n",
    "    for h in range(h_out):\n",
    "        for w in range(w_out):\n",
    "            for ch in range(c):\n",
    "                temp = data[h*stride : h*stride + k, w*stride : w*stride + k, ch, :]\n",
    "                output['data'][h,w,ch,:] = np.max(temp, axis=(0,1)) \n",
    "\n",
    "    output['data'] = output['data'].reshape((h_out*w_out*c, batch_size), order='F')\n",
    "    return output"
   ]
  },
  {
   "cell_type": "code",
   "execution_count": null,
   "id": "41540d79",
   "metadata": {},
   "outputs": [],
   "source": []
  }
 ],
 "metadata": {
  "kernelspec": {
   "display_name": "Python 3 (ipykernel)",
   "language": "python",
   "name": "python3"
  },
  "language_info": {
   "codemirror_mode": {
    "name": "ipython",
    "version": 3
   },
   "file_extension": ".py",
   "mimetype": "text/x-python",
   "name": "python",
   "nbconvert_exporter": "python",
   "pygments_lexer": "ipython3",
   "version": "3.11.3"
  }
 },
 "nbformat": 4,
 "nbformat_minor": 5
}
